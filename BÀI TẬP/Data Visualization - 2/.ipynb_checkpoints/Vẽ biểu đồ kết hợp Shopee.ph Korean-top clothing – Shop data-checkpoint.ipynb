{
 "cells": [
  {
   "cell_type": "code",
   "execution_count": 3,
   "id": "106df4d6",
   "metadata": {},
   "outputs": [],
   "source": [
    "import pandas as pd\n",
    "import matplotlib.pyplot as plt"
   ]
  },
  {
   "cell_type": "code",
   "execution_count": 4,
   "id": "8e062000",
   "metadata": {},
   "outputs": [],
   "source": [
    "shopee = pd.read_csv(\"D:/DA2210R1/data/shopeep_koreantop_clothing_shop_data.csv\")"
   ]
  },
  {
   "cell_type": "code",
   "execution_count": 6,
   "id": "2f502e59",
   "metadata": {},
   "outputs": [
    {
     "name": "stdout",
     "output_type": "stream",
     "text": [
      "<class 'pandas.core.frame.DataFrame'>\n",
      "RangeIndex: 746 entries, 0 to 745\n",
      "Data columns (total 18 columns):\n",
      " #   Column              Non-Null Count  Dtype  \n",
      "---  ------              --------------  -----  \n",
      " 0   pk_shop             746 non-null    int64  \n",
      " 1   date_collected      746 non-null    object \n",
      " 2   shopid              746 non-null    int64  \n",
      " 3   name                746 non-null    object \n",
      " 4   join_month          746 non-null    object \n",
      " 5   join_day            746 non-null    int64  \n",
      " 6   join_year           746 non-null    int64  \n",
      " 7   item_count          746 non-null    int64  \n",
      " 8   follower_count      746 non-null    int64  \n",
      " 9   response_time       746 non-null    object \n",
      " 10  response_rate       746 non-null    int64  \n",
      " 11  shop_location       428 non-null    object \n",
      " 12  rating_bad          746 non-null    int64  \n",
      " 13  rating_good         746 non-null    int64  \n",
      " 14  rating_normal       746 non-null    int64  \n",
      " 15  rating_star         740 non-null    float64\n",
      " 16  is_shopee_verified  746 non-null    int64  \n",
      " 17  is_official_shop    746 non-null    int64  \n",
      "dtypes: float64(1), int64(12), object(5)\n",
      "memory usage: 105.0+ KB\n"
     ]
    }
   ],
   "source": [
    "shopee.info()"
   ]
  },
  {
   "cell_type": "markdown",
   "id": "47bf97ca",
   "metadata": {},
   "source": [
    "### Vẽ biểu đồ:\n",
    "So sánh số lượng shop gia nhập theo các năm.\n",
    "\n",
    "Xu hướng của số lượng shop gia nhập theo từng tháng trong từng năm."
   ]
  },
  {
   "cell_type": "code",
   "execution_count": 14,
   "id": "ec683ca8",
   "metadata": {},
   "outputs": [],
   "source": [
    "shop_per_year = shopee[\"join_year\"].value_counts().sort_index()"
   ]
  },
  {
   "cell_type": "code",
   "execution_count": 16,
   "id": "eb018db3",
   "metadata": {},
   "outputs": [],
   "source": [
    "shop_per_month = shopee.groupby([\"join_year\", \"join_month\"])[\"join_month\"].count()"
   ]
  },
  {
   "cell_type": "code",
   "execution_count": 22,
   "id": "b1c6ea35",
   "metadata": {},
   "outputs": [],
   "source": [
    "shop_per_month.columns = \"no_shops_joint\""
   ]
  },
  {
   "cell_type": "code",
   "execution_count": null,
   "id": "8ee254e9",
   "metadata": {},
   "outputs": [],
   "source": []
  }
 ],
 "metadata": {
  "kernelspec": {
   "display_name": "Python 3 (ipykernel)",
   "language": "python",
   "name": "python3"
  },
  "language_info": {
   "codemirror_mode": {
    "name": "ipython",
    "version": 3
   },
   "file_extension": ".py",
   "mimetype": "text/x-python",
   "name": "python",
   "nbconvert_exporter": "python",
   "pygments_lexer": "ipython3",
   "version": "3.9.12"
  }
 },
 "nbformat": 4,
 "nbformat_minor": 5
}
