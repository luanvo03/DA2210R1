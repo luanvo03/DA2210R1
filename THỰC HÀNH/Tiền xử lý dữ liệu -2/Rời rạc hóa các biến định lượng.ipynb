{
 "cells": [
  {
   "cell_type": "code",
   "execution_count": 1,
   "id": "dba71089",
   "metadata": {},
   "outputs": [],
   "source": [
    "import pandas as pd\n",
    "import numpy as np"
   ]
  },
  {
   "cell_type": "code",
   "execution_count": 2,
   "id": "ac7b13d1",
   "metadata": {},
   "outputs": [],
   "source": [
    "ages = [20, 22, 25, 27, 21, 23, 37, 31, 61, 45, 41, 32]"
   ]
  },
  {
   "cell_type": "code",
   "execution_count": 3,
   "id": "fd92d9d2",
   "metadata": {},
   "outputs": [],
   "source": [
    "# định nghĩa khoảng giá trị các nhóm\n",
    "bins = [18, 25, 35, 60, 100]"
   ]
  },
  {
   "cell_type": "code",
   "execution_count": 7,
   "id": "c0a41b54",
   "metadata": {},
   "outputs": [],
   "source": [
    "# Thực hiện rời rạc hóa\n",
    "cats = pd.cut(ages, bins)"
   ]
  },
  {
   "cell_type": "code",
   "execution_count": 8,
   "id": "e2a0f7fb",
   "metadata": {},
   "outputs": [
    {
     "data": {
      "text/plain": [
       "[(18, 25], (18, 25], (18, 25], (25, 35], (18, 25], ..., (25, 35], (60, 100], (35, 60], (35, 60], (25, 35]]\n",
       "Length: 12\n",
       "Categories (4, interval[int64, right]): [(18, 25] < (25, 35] < (35, 60] < (60, 100]]"
      ]
     },
     "execution_count": 8,
     "metadata": {},
     "output_type": "execute_result"
    }
   ],
   "source": [
    "cats"
   ]
  },
  {
   "cell_type": "code",
   "execution_count": 9,
   "id": "5762ff47",
   "metadata": {},
   "outputs": [
    {
     "data": {
      "text/plain": [
       "array([0, 0, 0, 1, 0, 0, 2, 1, 3, 2, 2, 1], dtype=int8)"
      ]
     },
     "execution_count": 9,
     "metadata": {},
     "output_type": "execute_result"
    }
   ],
   "source": [
    "# Lấy index của nhóm tương ứng với các phần tử\n",
    "cats.codes"
   ]
  },
  {
   "cell_type": "code",
   "execution_count": 10,
   "id": "1242c026",
   "metadata": {},
   "outputs": [
    {
     "data": {
      "text/plain": [
       "IntervalIndex([(18, 25], (25, 35], (35, 60], (60, 100]], dtype='interval[int64, right]')"
      ]
     },
     "execution_count": 10,
     "metadata": {},
     "output_type": "execute_result"
    }
   ],
   "source": [
    "# Lấy ra các nhóm \n",
    "cats.categories"
   ]
  },
  {
   "cell_type": "code",
   "execution_count": 11,
   "id": "38a4ed1d",
   "metadata": {},
   "outputs": [
    {
     "data": {
      "text/plain": [
       "(18, 25]     5\n",
       "(25, 35]     3\n",
       "(35, 60]     3\n",
       "(60, 100]    1\n",
       "dtype: int64"
      ]
     },
     "execution_count": 11,
     "metadata": {},
     "output_type": "execute_result"
    }
   ],
   "source": [
    "# Thống kê số lượng phần tử ở mỗi nhóm\n",
    "pd.value_counts(cats)"
   ]
  },
  {
   "cell_type": "code",
   "execution_count": 12,
   "id": "596b07d0",
   "metadata": {},
   "outputs": [
    {
     "data": {
      "text/plain": [
       "[[18, 26), [18, 26), [18, 26), [26, 36), [18, 26), ..., [26, 36), [61, 100), [36, 61), [36, 61), [26, 36)]\n",
       "Length: 12\n",
       "Categories (4, interval[int64, left]): [[18, 26) < [26, 36) < [36, 61) < [61, 100)]"
      ]
     },
     "execution_count": 12,
     "metadata": {},
     "output_type": "execute_result"
    }
   ],
   "source": [
    "pd.cut(ages, [18, 26, 36, 61, 100], right=False)"
   ]
  },
  {
   "cell_type": "code",
   "execution_count": 13,
   "id": "c54281cf",
   "metadata": {},
   "outputs": [
    {
     "data": {
      "text/plain": [
       "['Youth', 'Youth', 'Youth', 'YoungAdult', 'Youth', ..., 'YoungAdult', 'Senior', 'MiddleAged', 'MiddleAged', 'YoungAdult']\n",
       "Length: 12\n",
       "Categories (4, object): ['Youth' < 'YoungAdult' < 'MiddleAged' < 'Senior']"
      ]
     },
     "execution_count": 13,
     "metadata": {},
     "output_type": "execute_result"
    }
   ],
   "source": [
    "# danh sách nhãn\n",
    "group_names = ['Youth', 'YoungAdult', 'MiddleAged', 'Senior']\n",
    "\n",
    "pd.cut(ages, bins, labels=group_names)"
   ]
  },
  {
   "cell_type": "code",
   "execution_count": 14,
   "id": "6839b5f1",
   "metadata": {},
   "outputs": [],
   "source": [
    "# sinh dữ liệu ngẫu nhiên gồm 20 phần tử\n",
    "data = np.random.rand(20)"
   ]
  },
  {
   "cell_type": "code",
   "execution_count": 15,
   "id": "68307447",
   "metadata": {},
   "outputs": [
    {
     "data": {
      "text/plain": [
       "[(0.54, 0.77], (0.77, 1.0], (0.078, 0.31], (0.078, 0.31], (0.31, 0.54], ..., (0.77, 1.0], (0.078, 0.31], (0.77, 1.0], (0.31, 0.54], (0.77, 1.0]]\n",
       "Length: 20\n",
       "Categories (4, interval[float64, right]): [(0.078, 0.31] < (0.31, 0.54] < (0.54, 0.77] < (0.77, 1.0]]"
      ]
     },
     "execution_count": 15,
     "metadata": {},
     "output_type": "execute_result"
    }
   ],
   "source": [
    "# Tùy chọn precision = 2 sẽ giới hạn độ chính xác thập phân ở hai chữ số.\n",
    "cut_data = pd.cut(data, 4, precision=2)\n",
    "cut_data"
   ]
  },
  {
   "cell_type": "code",
   "execution_count": 16,
   "id": "a93f4cbf",
   "metadata": {},
   "outputs": [
    {
     "data": {
      "text/plain": [
       "(0.078, 0.31]    6\n",
       "(0.31, 0.54]     6\n",
       "(0.77, 1.0]      6\n",
       "(0.54, 0.77]     2\n",
       "dtype: int64"
      ]
     },
     "execution_count": 16,
     "metadata": {},
     "output_type": "execute_result"
    }
   ],
   "source": [
    "pd.value_counts(cut_data)"
   ]
  },
  {
   "cell_type": "code",
   "execution_count": 17,
   "id": "2d90c036",
   "metadata": {},
   "outputs": [],
   "source": [
    " # sinh ngẫu nhiễn 1000 điểm dữ liệu\n",
    "data = np.random.randn(1000)"
   ]
  },
  {
   "cell_type": "code",
   "execution_count": 18,
   "id": "42d92ba4",
   "metadata": {},
   "outputs": [],
   "source": [
    "# thực hiện hàm qcut trên dữ liệu vừa sinh ra\n",
    "cats = pd.qcut(data, 4)"
   ]
  },
  {
   "cell_type": "code",
   "execution_count": 19,
   "id": "86e8d619",
   "metadata": {},
   "outputs": [
    {
     "data": {
      "text/plain": [
       "[(-0.0192, 0.704], (0.704, 4.02], (-0.0192, 0.704], (0.704, 4.02], (-0.0192, 0.704], ..., (-0.0192, 0.704], (0.704, 4.02], (-0.0192, 0.704], (-0.0192, 0.704], (-0.689, -0.0192]]\n",
       "Length: 1000\n",
       "Categories (4, interval[float64, right]): [(-3.251, -0.689] < (-0.689, -0.0192] < (-0.0192, 0.704] < (0.704, 4.02]]"
      ]
     },
     "execution_count": 19,
     "metadata": {},
     "output_type": "execute_result"
    }
   ],
   "source": [
    "cats"
   ]
  },
  {
   "cell_type": "code",
   "execution_count": 20,
   "id": "13fb7430",
   "metadata": {},
   "outputs": [
    {
     "data": {
      "text/plain": [
       "(-3.251, -0.689]     250\n",
       "(-0.689, -0.0192]    250\n",
       "(-0.0192, 0.704]     250\n",
       "(0.704, 4.02]        250\n",
       "dtype: int64"
      ]
     },
     "execution_count": 20,
     "metadata": {},
     "output_type": "execute_result"
    }
   ],
   "source": [
    "#thống kê số lượng phần tử\n",
    "pd.value_counts(cats)"
   ]
  },
  {
   "cell_type": "code",
   "execution_count": 21,
   "id": "dd383eda",
   "metadata": {},
   "outputs": [
    {
     "data": {
      "text/plain": [
       "[(-0.0192, 1.3], (1.3, 4.02], (-0.0192, 1.3], (1.3, 4.02], (-0.0192, 1.3], ..., (-0.0192, 1.3], (-0.0192, 1.3], (-0.0192, 1.3], (-0.0192, 1.3], (-1.331, -0.0192]]\n",
       "Length: 1000\n",
       "Categories (4, interval[float64, right]): [(-3.251, -1.331] < (-1.331, -0.0192] < (-0.0192, 1.3] < (1.3, 4.02]]"
      ]
     },
     "execution_count": 21,
     "metadata": {},
     "output_type": "execute_result"
    }
   ],
   "source": [
    "pd.qcut(data, [0, 0.1, 0.5, 0.9, 1.])"
   ]
  },
  {
   "cell_type": "code",
   "execution_count": null,
   "id": "cfef0c7d",
   "metadata": {},
   "outputs": [],
   "source": []
  }
 ],
 "metadata": {
  "kernelspec": {
   "display_name": "Python 3 (ipykernel)",
   "language": "python",
   "name": "python3"
  },
  "language_info": {
   "codemirror_mode": {
    "name": "ipython",
    "version": 3
   },
   "file_extension": ".py",
   "mimetype": "text/x-python",
   "name": "python",
   "nbconvert_exporter": "python",
   "pygments_lexer": "ipython3",
   "version": "3.9.12"
  }
 },
 "nbformat": 4,
 "nbformat_minor": 5
}
